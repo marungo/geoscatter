{
 "cells": [
  {
   "cell_type": "markdown",
   "metadata": {},
   "source": [
    "## Notebook exploring the geodata extracted from adam4adam profiles based in MA\n",
    "### by Mary Ruth Ngo under supervision of Professor Octavio Gonzalez\n",
    "\n",
    "1. Using geopy, I can use town data I scraped and convert it to lat/long values"
   ]
  },
  {
   "cell_type": "code",
   "execution_count": 2,
   "metadata": {
    "collapsed": false
   },
   "outputs": [
    {
     "name": "stdout",
     "output_type": "stream",
     "text": [
      "Requirement already satisfied (use --upgrade to upgrade): geopy in /Users/maryruthngo/Library/Enthought/Canopy_64bit/User/lib/python2.7/site-packages\r\n"
     ]
    }
   ],
   "source": [
    "!pip install geopy"
   ]
  },
  {
   "cell_type": "code",
   "execution_count": 3,
   "metadata": {
    "collapsed": false
   },
   "outputs": [
    {
     "name": "stdout",
     "output_type": "stream",
     "text": [
      "{u'display_name': u'Chicago, Cook County, Illinois, United States of America', u'importance': 1.0026476104889, u'place_id': u'143390527', u'lon': u'-87.6244211', u'lat': u'41.8755546', u'osm_type': u'relation', u'licence': u'Data \\xa9 OpenStreetMap contributors, ODbL 1.0. http://www.openstreetmap.org/copyright', u'osm_id': u'122604', u'boundingbox': [u'41.643919', u'42.0230219', u'-87.9401009', u'-87.523984'], u'type': u'city', u'class': u'place', u'icon': u'https://nominatim.openstreetmap.org/images/mapicons/poi_place_city.p.20.png'}\n",
      "Help on Location in module geopy.location object:\n",
      "\n",
      "class Location(__builtin__.object)\n",
      " |  Contains a parsed geocoder response. Can be iterated over as\n",
      " |  (location<String>, (latitude<float>, longitude<Float)). Or one can access\n",
      " |  the properties `address`, `latitude`, `longitude`, or `raw`. The last\n",
      " |  is a dictionary of the geocoder's response for this item.\n",
      " |  \n",
      " |  .. versionadded:: 0.98\n",
      " |  \n",
      " |  Methods defined here:\n",
      " |  \n",
      " |  __eq__(self, other)\n",
      " |  \n",
      " |  __getitem__(self, index)\n",
      " |      Backwards compatibility with geopy<0.98 tuples.\n",
      " |  \n",
      " |  __init__(self, address='', point=None, raw=None)\n",
      " |  \n",
      " |  __iter__(self)\n",
      " |  \n",
      " |  __len__(self)\n",
      " |  \n",
      " |  __ne__(self, other)\n",
      " |  \n",
      " |  __repr__(self)\n",
      " |  \n",
      " |  __str__ = __unicode__(self)\n",
      " |  \n",
      " |  __unicode__(self)\n",
      " |  \n",
      " |  ----------------------------------------------------------------------\n",
      " |  Data descriptors defined here:\n",
      " |  \n",
      " |  address\n",
      " |      Location as a formatted string returned by the geocoder or constructed\n",
      " |      by geopy, depending on the service.\n",
      " |      \n",
      " |      :rtype: unicode\n",
      " |  \n",
      " |  altitude\n",
      " |      Location's altitude.\n",
      " |      \n",
      " |      :rtype: float or None\n",
      " |  \n",
      " |  latitude\n",
      " |      Location's latitude.\n",
      " |      \n",
      " |      :rtype: float or None\n",
      " |  \n",
      " |  longitude\n",
      " |      Location's longitude.\n",
      " |      \n",
      " |      :rtype: float or None\n",
      " |  \n",
      " |  point\n",
      " |      :class:`geopy.point.Point` instance representing the location's\n",
      " |      latitude, longitude, and altitude.\n",
      " |      \n",
      " |      :rtype: :class:`geopy.point.Point` or None\n",
      " |  \n",
      " |  raw\n",
      " |      Location's raw, unparsed geocoder response. For details on this,\n",
      " |      consult the service's documentation.\n",
      " |      \n",
      " |      :rtype: dict or None\n",
      "\n"
     ]
    }
   ],
   "source": [
    "from geopy.geocoders import Nominatim\n",
    "geolocator = Nominatim()\n",
    "location = geolocator.geocode(\"Chicago Illinois\")\n",
    "print(location.raw)\n",
    "help(location)"
   ]
  },
  {
   "cell_type": "code",
   "execution_count": 4,
   "metadata": {
    "collapsed": true
   },
   "outputs": [],
   "source": [
    "import pandas as pd\n",
    "import plotly"
   ]
  },
  {
   "cell_type": "markdown",
   "metadata": {},
   "source": [
    "csv file ma_plus_race.csv stores data (last updated to include a section on race/ethnicity for each profile)"
   ]
  },
  {
   "cell_type": "code",
   "execution_count": 5,
   "metadata": {
    "collapsed": false
   },
   "outputs": [],
   "source": [
    "ma = pd.DataFrame.from_csv(\"ma_plus_race.csv\")"
   ]
  },
  {
   "cell_type": "code",
   "execution_count": 6,
   "metadata": {
    "collapsed": false
   },
   "outputs": [],
   "source": [
    "one_city_list = list(set([i + \" Massachusetts\" for i in ma[\"town\"].values.tolist()\\\n",
    "                 if len(str(i).split(\", \")) == 1 and str(i) != \"nan\"]))"
   ]
  },
  {
   "cell_type": "code",
   "execution_count": 7,
   "metadata": {
    "collapsed": false
   },
   "outputs": [],
   "source": [
    "lats = []\n",
    "lons = []\n",
    "# print(len(one_city_list))\n",
    "for i in one_city_list:\n",
    "    location = geolocator.geocode(i, timeout=10)\n",
    "    lats.append(location.latitude)\n",
    "    lons.append(location.longitude)"
   ]
  },
  {
   "cell_type": "code",
   "execution_count": 8,
   "metadata": {
    "collapsed": true
   },
   "outputs": [],
   "source": [
    "two_city_list = list(set([i + \" Massachusetts\" for i in ma[\"town\"].values.tolist()\\\n",
    "                 if len(str(i).split(\", \")) == 2 and str(i) != \"nan\"]))"
   ]
  },
  {
   "cell_type": "code",
   "execution_count": 9,
   "metadata": {
    "collapsed": false
   },
   "outputs": [],
   "source": [
    "for i in two_city_list:\n",
    "    if \"Other\" in i:\n",
    "        two_city_list.remove(i)"
   ]
  },
  {
   "cell_type": "code",
   "execution_count": 10,
   "metadata": {
    "collapsed": false
   },
   "outputs": [],
   "source": [
    "two_city_list = [i.split(\", \")[1] for i in two_city_list]"
   ]
  },
  {
   "cell_type": "code",
   "execution_count": 11,
   "metadata": {
    "collapsed": false
   },
   "outputs": [
    {
     "data": {
      "text/plain": [
       "134"
      ]
     },
     "execution_count": 11,
     "metadata": {},
     "output_type": "execute_result"
    }
   ],
   "source": [
    "all_cities = one_city_list + two_city_list\n",
    "len(all_cities)"
   ]
  },
  {
   "cell_type": "markdown",
   "metadata": {},
   "source": [
    "**Edge cases:**"
   ]
  },
  {
   "cell_type": "code",
   "execution_count": 12,
   "metadata": {
    "collapsed": false
   },
   "outputs": [],
   "source": [
    "for i,v in enumerate(all_cities):\n",
    "    if \"Leather\" in v:\n",
    "        all_cities[i] = \"Leather District, Boston\"\n",
    "    elif \"Bay Village\" in v:\n",
    "        all_cities[i] = \"Bay Village\"\n",
    "    elif \"Brickell\" in v:\n",
    "        all_cities.remove(v)\n",
    "    elif \"Boston Airport\" in v:\n",
    "        all_cities[i] = \"Boston Logan International Airport, Boston\""
   ]
  },
  {
   "cell_type": "markdown",
   "metadata": {},
   "source": [
    "Store conversion data in dictionary and pandas frame"
   ]
  },
  {
   "cell_type": "code",
   "execution_count": 47,
   "metadata": {
    "collapsed": false
   },
   "outputs": [
    {
     "name": "stdout",
     "output_type": "stream",
     "text": [
      "Boston Logan International Airport, Boston\n",
      "Leather District, Boston\n"
     ]
    }
   ],
   "source": [
    "geo_dict = {}\n",
    "for i in all_cities:\n",
    "    location = geolocator.geocode(i, timeout=10)\n",
    "    try:\n",
    "        lat = location.latitude\n",
    "        lon = location.longitude\n",
    "    except AttributeError:\n",
    "        print(i)\n",
    "    geo_dict[i] = {\"lat\": lat, \"lon\": lon}"
   ]
  },
  {
   "cell_type": "code",
   "execution_count": 48,
   "metadata": {
    "collapsed": true
   },
   "outputs": [],
   "source": [
    "geo_dict[\"Boston Logan Airport\"] = {\"lat\": 42.366828, \"lon\": -71.027330}\n",
    "geo_dict[\"Leather District\"] = {\"lat\": 42.350807, \"lon\": -71.057969}"
   ]
  },
  {
   "cell_type": "code",
   "execution_count": 14,
   "metadata": {
    "collapsed": false
   },
   "outputs": [],
   "source": [
    "geo_frame = pd.DataFrame(geo_dict).T"
   ]
  },
  {
   "cell_type": "code",
   "execution_count": 33,
   "metadata": {
    "collapsed": false
   },
   "outputs": [
    {
     "data": {
      "text/plain": [
       "Index([u'Acton Massachusetts', u'Allston/Brighton Massachusetts',\n",
       "       u'Amesbury Massachusetts', u'Andover Massachusetts',\n",
       "       u'Arlington Massachusetts', u'Ashland Massachusetts',\n",
       "       u'Back Bay Massachusetts', u'Barnstable Massachusetts', u'Bay Village',\n",
       "       u'Beacon Hill Massachusetts',\n",
       "       ...\n",
       "       u'Westborough Massachusetts', u'Westford Massachusetts',\n",
       "       u'Weymouth Massachusetts', u'Wilmington Massachusetts',\n",
       "       u'Winchester Massachusetts', u'Woburn Massachusetts',\n",
       "       u'Wrentham Massachusetts', u'Yarmouth Massachusetts',\n",
       "       u'boxborough Massachusetts', u'winthrop Massachusetts'],\n",
       "      dtype='object', length=133)"
      ]
     },
     "execution_count": 33,
     "metadata": {},
     "output_type": "execute_result"
    }
   ],
   "source": [
    "geo_frame.index"
   ]
  },
  {
   "cell_type": "markdown",
   "metadata": {},
   "source": [
    "use conversion dictionary to add a lat and long value to each profile in pandas dataframe"
   ]
  },
  {
   "cell_type": "code",
   "execution_count": 16,
   "metadata": {
    "collapsed": false
   },
   "outputs": [],
   "source": [
    "clean_towns = []\n",
    "lats_list = []\n",
    "lons_list = []\n",
    "ma_city_values = [str(i) for i in ma[\"town\"].values.tolist()]\n",
    "for ind,i in enumerate(ma_city_values):\n",
    "    if str(i) == \"nan\" or \":\" in i:\n",
    "        clean_towns.append(\"nan\")\n",
    "        lats_list.append(\"nan\")\n",
    "        lons_list.append(\"nan\")\n",
    "    else:\n",
    "        if \",\" in i:\n",
    "            val = i.split(\", \")[1]\n",
    "        else:\n",
    "            val = i\n",
    "        try:\n",
    "            lats_list.append(geo_dict[val + \" Massachusetts\"][\"lat\"])\n",
    "            lons_list.append(geo_dict[val + \" Massachusetts\"][\"lon\"])\n",
    "            clean_towns.append(val + \" Massachusetts\")\n",
    "        except KeyError:\n",
    "            if \"Bay Village\" in val:\n",
    "                lats_list.append(42.349176)\n",
    "                lons_list.append(-71.069591)\n",
    "                clean_towns.append(\"Bay Village\")\n",
    "            elif \"Leather\" in val:\n",
    "                lats_list.append(42.350807)\n",
    "                lons_list.append(-71.057969)\n",
    "                clean_towns.append(\"Leather District\")\n",
    "            elif \"Airport\" in val:\n",
    "                lats_list.append(42.366828)\n",
    "                lons_list.append(-71.027330)\n",
    "                clean_towns.append(\"Boston Logan Airport\")\n",
    "            else:\n",
    "                clean_towns.append(\"nan\")\n",
    "                lats_list.append(\"nan\")\n",
    "                lons_list.append(\"nan\")"
   ]
  },
  {
   "cell_type": "code",
   "execution_count": 43,
   "metadata": {
    "collapsed": false
   },
   "outputs": [
    {
     "data": {
      "text/plain": [
       "22805"
      ]
     },
     "execution_count": 43,
     "metadata": {},
     "output_type": "execute_result"
    }
   ],
   "source": [
    "ma[\"towns\"] = clean_towns\n",
    "ma[\"lat\"] = lats_list\n",
    "ma[\"lon\"] = lons_list\n",
    "len(ma[\"towns\"])"
   ]
  },
  {
   "cell_type": "code",
   "execution_count": 18,
   "metadata": {
    "collapsed": false
   },
   "outputs": [],
   "source": [
    "from itertools import groupby\n",
    "lengtsh = [len(list(group)) for key, group in groupby(clean_towns)]"
   ]
  },
  {
   "cell_type": "markdown",
   "metadata": {},
   "source": [
    "**Check out the frequency breakdown for users around the state**"
   ]
  },
  {
   "cell_type": "code",
   "execution_count": 23,
   "metadata": {
    "collapsed": false,
    "scrolled": false
   },
   "outputs": [],
   "source": [
    "import collections\n",
    "counter=collections.Counter(clean_towns)\n",
    "# print(counter)\n",
    "# print(counter.values())\n",
    "# print(counter.keys())\n",
    "frequencies = (counter.most_common(134))"
   ]
  },
  {
   "cell_type": "code",
   "execution_count": 50,
   "metadata": {
    "collapsed": false
   },
   "outputs": [
    {
     "data": {
      "text/plain": [
       "42.2694308"
      ]
     },
     "execution_count": 50,
     "metadata": {},
     "output_type": "execute_result"
    }
   ],
   "source": [
    "geo_dict[u'Westborough Massachusetts']['lat']"
   ]
  },
  {
   "cell_type": "code",
   "execution_count": 55,
   "metadata": {
    "collapsed": false
   },
   "outputs": [
    {
     "name": "stdout",
     "output_type": "stream",
     "text": [
      "('nan', 9216)\n"
     ]
    }
   ],
   "source": [
    "freq = []\n",
    "for i,v in enumerate(frequencies):\n",
    "    try:\n",
    "        freq.append([geo_dict[v[0]][\"lat\"], geo_dict[v[0]][\"lon\"], v[1]])\n",
    "    except KeyError:\n",
    "        print v"
   ]
  },
  {
   "cell_type": "code",
   "execution_count": 61,
   "metadata": {
    "collapsed": false
   },
   "outputs": [],
   "source": [
    "prep_towns = ma[\"towns\"][ma[\"hiv_status\"] == \"HIV Negative, on PrEP\"].values.tolist()"
   ]
  },
  {
   "cell_type": "code",
   "execution_count": 71,
   "metadata": {
    "collapsed": false
   },
   "outputs": [
    {
     "name": "stdout",
     "output_type": "stream",
     "text": [
      "('nan', 93)\n"
     ]
    }
   ],
   "source": [
    "counter=collections.Counter(prep_towns)\n",
    "frequencies = (counter.most_common(58))\n",
    "freq = []\n",
    "for i,v in enumerate(frequencies):\n",
    "    try:\n",
    "        freq.append([geo_dict[v[0]][\"lat\"], geo_dict[v[0]][\"lon\"], v[1], frequencies[i][0]])\n",
    "    except KeyError:\n",
    "        print v"
   ]
  },
  {
   "cell_type": "code",
   "execution_count": 72,
   "metadata": {
    "collapsed": false
   },
   "outputs": [
    {
     "data": {
      "text/plain": [
       "[[42.2973205, -71.0744951, 37, 'Dorchester Massachusetts'],\n",
       " [42.0959276, -72.5828662, 16, 'South End Massachusetts'],\n",
       " [42.058436, -70.1786374, 13, 'Provincetown Massachusetts'],\n",
       " [42.3750997, -71.1056156, 11, 'Cambridge Massachusetts'],\n",
       " [42.3098201, -71.1203298, 10, 'Jamaica Plain Massachusetts'],\n",
       " [42.3334312, -71.0494948, 10, 'South Boston Massachusetts'],\n",
       " [42.3875968, -71.0994967, 9, 'Somerville Massachusetts'],\n",
       " [42.3547903, -71.1181804, 8, 'Allston/Brighton Massachusetts'],\n",
       " [42.4084302, -71.0119947, 8, 'Revere Massachusetts'],\n",
       " [42.3551473, -71.0599538, 6, 'Downtown Crossing Massachusetts'],\n",
       " [42.3750973, -71.0392172, 5, 'East Boston Massachusetts'],\n",
       " [42.3756401, -71.2358003, 5, 'Waltham Massachusetts'],\n",
       " [42.3507067, -71.0797296, 5, 'Back Bay Massachusetts'],\n",
       " [42.34406895, -71.0945223672873, 5, 'Fenway/Kenmore Massachusetts'],\n",
       " [42.4184296, -71.1061638, 4, 'Medford Massachusetts'],\n",
       " [42.3248426, -71.0950157, 4, 'Roxbury Massachusetts'],\n",
       " [42.466763, -70.9494938, 4, 'Lynn Massachusetts'],\n",
       " [42.3750976, -70.9828269, 3, 'winthrop Massachusetts'],\n",
       " [42.3917638, -71.0328283, 3, 'Chelsea Massachusetts'],\n",
       " [42.2528772, -71.0022704, 3, 'Quincy Massachusetts'],\n",
       " [42.3709299, -71.182832, 3, 'Watertown Massachusetts'],\n",
       " [42.40843, -71.0536624, 3, 'Everett Massachusetts'],\n",
       " [42.3317642, -71.1211634, 3, 'Brookline Massachusetts'],\n",
       " [42.4153739, -71.1564427, 3, 'Arlington Massachusetts'],\n",
       " [42.2212188, -70.9391624, 2, 'Weymouth Massachusetts'],\n",
       " [42.2912093, -71.1244965, 2, 'Roslindale Massachusetts'],\n",
       " [42.6334247, -71.3161717, 2, 'Lowell Massachusetts'],\n",
       " [42.3459271, -71.5522873, 2, 'Marlborough Massachusetts'],\n",
       " [42.4792618, -71.1522765, 1, 'Woburn Massachusetts'],\n",
       " [41.6484421, -70.4811382, 1, 'Mashpee Massachusetts'],\n",
       " [42.4800954, -71.0994975, 1, 'Stoneham Massachusetts'],\n",
       " [42.2223218, -70.9994919, 1, 'Braintree Massachusetts'],\n",
       " [42.3598196, -71.0661622, 1, 'Beacon Hill Massachusetts'],\n",
       " [42.355838, -71.0556164, 1, 'Financial District Massachusetts'],\n",
       " [42.4473175, -71.2245002, 1, 'Lexington Massachusetts'],\n",
       " [42.5584264, -71.2689469, 1, 'Billerica Massachusetts'],\n",
       " [42.3370414, -71.2092213, 1, 'Newton Massachusetts'],\n",
       " [42.2403766, -71.1369963, 1, 'Readville Massachusetts'],\n",
       " [41.3924769, -70.6202643063347, 1, \"Martha's Vineyard Massachusetts\"],\n",
       " [42.3650974, -71.0544953, 1, 'North End Massachusetts'],\n",
       " [42.4850931, -71.4328399, 1, 'Acton Massachusetts'],\n",
       " [42.5195292, -70.8967225, 1, 'Salem Massachusetts'],\n",
       " [42.5584284, -70.880049, 1, 'Beverly Massachusetts'],\n",
       " [42.6987024, -71.1350574, 1, 'North Andover Massachusetts'],\n",
       " [42.4250964, -71.0661629, 1, 'Malden Massachusetts'],\n",
       " [42.7070354, -71.1631136, 1, 'Lawrence Massachusetts'],\n",
       " [42.2792625, -71.4161719, 1, 'Framingham Massachusetts'],\n",
       " [41.9376051, -70.0327995, 1, 'Wellfleet Massachusetts'],\n",
       " [42.5278731, -70.9286608, 1, 'Peabody Massachusetts'],\n",
       " [42.366828, -71.02733, 1, 'Boston Logan Airport'],\n",
       " [42.2417669, -70.8897675, 1, 'Hingham Massachusetts'],\n",
       " [42.332926, -71.1032142308063, 1, 'Mission Hill Massachusetts'],\n",
       " [42.2694308, -71.6129906, 1, 'Westborough Massachusetts'],\n",
       " [42.330653, -71.1622756, 1, 'Chestnut Hill Massachusetts'],\n",
       " [42.2417653, -71.1661639, 1, 'Dedham Massachusetts'],\n",
       " [42.7777829, -71.0767723, 1, 'Haverhill Massachusetts'],\n",
       " [42.6106479, -71.2342247, 1, 'Tewksbury Massachusetts']]"
      ]
     },
     "execution_count": 72,
     "metadata": {},
     "output_type": "execute_result"
    }
   ],
   "source": [
    "freq"
   ]
  },
  {
   "cell_type": "markdown",
   "metadata": {},
   "source": [
    "Use plotly's geoscatter plot to try to visualize that frequency"
   ]
  },
  {
   "cell_type": "code",
   "execution_count": 42,
   "metadata": {
    "collapsed": true
   },
   "outputs": [],
   "source": [
    "import plotly.tools as tls\n",
    "tls.set_credentials_file(username='mrngos', api_key='r2pmvn0qhu')"
   ]
  },
  {
   "cell_type": "markdown",
   "metadata": {},
   "source": [
    "## Biggest issue:\n",
    "The map data in plotly doesn't scale to city/state scope, stays only at state/country level in the States. must find alternative"
   ]
  },
  {
   "cell_type": "code",
   "execution_count": 62,
   "metadata": {
    "collapsed": false,
    "scrolled": true
   },
   "outputs": [
    {
     "name": "stdout",
     "output_type": "stream",
     "text": [
      "High five! You successfuly sent some data to your account on plotly. View your plot in your browser at https://plot.ly/~mrngos/0 or inside your plot.ly account where it is named 'd3-airports'\n"
     ]
    },
    {
     "data": {
      "text/html": [
       "<iframe id=\"igraph\" scrolling=\"no\" style=\"border:none;\" seamless=\"seamless\" src=\"https://plot.ly/~mrngos/0.embed\" height=\"525px\" width=\"100%\"></iframe>"
      ],
      "text/plain": [
       "<plotly.tools.PlotlyDisplay object>"
      ]
     },
     "execution_count": 62,
     "metadata": {},
     "output_type": "execute_result"
    }
   ],
   "source": [
    "import plotly.plotly as py\n",
    "import pandas as pd\n",
    "\n",
    "df = pd.read_csv('https://raw.githubusercontent.com/plotly/datasets/master/2011_february_us_airport_traffic.csv')\n",
    "df.head()\n",
    "\n",
    "# ma['text'] = df['town'] + '' + df['city'] + ', ' + df['state'] + '' + 'Arrivals: ' + df['cnt'].astype(str)\n",
    "\n",
    "scl = [ [0,\"rgb(5, 10, 172)\"],[0.35,\"rgb(40, 60, 190)\"],[0.5,\"rgb(70, 100, 245)\"],\\\n",
    "    [0.6,\"rgb(90, 120, 245)\"],[0.7,\"rgb(106, 137, 247)\"],[1,\"rgb(220, 220, 220)\"] ]\n",
    "\n",
    "data = [ dict(\n",
    "        type = 'scattergeo',\n",
    "        locationmode = 'MA-cities',\n",
    "        lon = ma['lon'],\n",
    "        lat = ma['lat'],\n",
    "        mode = 'markers',\n",
    "        marker = dict( \n",
    "            size = 8, \n",
    "            opacity = 0.8,\n",
    "            reversescale = True,\n",
    "            autocolorscale = False,\n",
    "            symbol = 'circle',\n",
    "            line = dict(\n",
    "                width=1,\n",
    "                color='rgba(102, 102, 102)'\n",
    "            ),\n",
    "            colorscale = scl,\n",
    "            cmin = 0,\n",
    "            color = df['cnt'],\n",
    "            cmax = df['cnt'].max(),\n",
    "            colorbar=dict(\n",
    "                title=\"Incoming flightsFebruary 2011\"\n",
    "            )\n",
    "        ))]\n",
    "\n",
    "layout = dict(\n",
    "        title = 'Most trafficked US airports<br>(Hover for airport names)',\n",
    "        colorbar = True,   \n",
    "        geo = dict(\n",
    "            scope='usa',\n",
    "            projection=dict( type='albers usa' ),\n",
    "            showland = True,\n",
    "            landcolor = \"rgb(250, 250, 250)\",\n",
    "            subunitcolor = \"rgb(217, 217, 217)\",\n",
    "            countrycolor = \"rgb(217, 217, 217)\",\n",
    "            countrywidth = 0.5,\n",
    "            subunitwidth = 0.5        \n",
    "        ),\n",
    "    )\n",
    "\n",
    "fig = dict( data=data, layout=layout )\n",
    "py.iplot( fig, validate=False, filename='d3-airports' )"
   ]
  }
 ],
 "metadata": {
  "kernelspec": {
   "display_name": "Python 2",
   "language": "python",
   "name": "python2"
  },
  "language_info": {
   "codemirror_mode": {
    "name": "ipython",
    "version": 2
   },
   "file_extension": ".py",
   "mimetype": "text/x-python",
   "name": "python",
   "nbconvert_exporter": "python",
   "pygments_lexer": "ipython2",
   "version": "2.7.10"
  }
 },
 "nbformat": 4,
 "nbformat_minor": 0
}
