{
 "cells": [
  {
   "cell_type": "markdown",
   "metadata": {},
   "source": [
    "## Notebook exploring the geodata extracted from adam4adam profiles based in MA\n",
    "### by Mary Ruth Ngo under supervision of Professor Octavio Gonzalez\n",
    "\n",
    "1. Using geopy, I can use town data I scraped and convert it to lat/long values"
   ]
  },
  {
   "cell_type": "code",
   "execution_count": 2,
   "metadata": {
    "collapsed": false
   },
   "outputs": [
    {
     "name": "stdout",
     "output_type": "stream",
     "text": [
      "Requirement already satisfied (use --upgrade to upgrade): geopy in /Users/maryruthngo/Library/Enthought/Canopy_64bit/User/lib/python2.7/site-packages\r\n"
     ]
    }
   ],
   "source": [
    "!pip install geopy"
   ]
  },
  {
   "cell_type": "code",
   "execution_count": 4,
   "metadata": {
    "collapsed": false
   },
   "outputs": [
    {
     "name": "stdout",
     "output_type": "stream",
     "text": [
      "{u'display_name': u'Chicago, Cook County, Illinois, United States of America', u'importance': 1.0026476104889, u'place_id': u'143390527', u'lon': u'-87.6244211', u'lat': u'41.8755546', u'osm_type': u'relation', u'licence': u'Data \\xa9 OpenStreetMap contributors, ODbL 1.0. http://www.openstreetmap.org/copyright', u'osm_id': u'122604', u'boundingbox': [u'41.643919', u'42.0230219', u'-87.9401009', u'-87.523984'], u'type': u'city', u'class': u'place', u'icon': u'https://nominatim.openstreetmap.org/images/mapicons/poi_place_city.p.20.png'}\n",
      "Help on Location in module geopy.location object:\n",
      "\n",
      "class Location(__builtin__.object)\n",
      " |  Contains a parsed geocoder response. Can be iterated over as\n",
      " |  (location<String>, (latitude<float>, longitude<Float)). Or one can access\n",
      " |  the properties `address`, `latitude`, `longitude`, or `raw`. The last\n",
      " |  is a dictionary of the geocoder's response for this item.\n",
      " |  \n",
      " |  .. versionadded:: 0.98\n",
      " |  \n",
      " |  Methods defined here:\n",
      " |  \n",
      " |  __eq__(self, other)\n",
      " |  \n",
      " |  __getitem__(self, index)\n",
      " |      Backwards compatibility with geopy<0.98 tuples.\n",
      " |  \n",
      " |  __init__(self, address='', point=None, raw=None)\n",
      " |  \n",
      " |  __iter__(self)\n",
      " |  \n",
      " |  __len__(self)\n",
      " |  \n",
      " |  __ne__(self, other)\n",
      " |  \n",
      " |  __repr__(self)\n",
      " |  \n",
      " |  __str__ = __unicode__(self)\n",
      " |  \n",
      " |  __unicode__(self)\n",
      " |  \n",
      " |  ----------------------------------------------------------------------\n",
      " |  Data descriptors defined here:\n",
      " |  \n",
      " |  address\n",
      " |      Location as a formatted string returned by the geocoder or constructed\n",
      " |      by geopy, depending on the service.\n",
      " |      \n",
      " |      :rtype: unicode\n",
      " |  \n",
      " |  altitude\n",
      " |      Location's altitude.\n",
      " |      \n",
      " |      :rtype: float or None\n",
      " |  \n",
      " |  latitude\n",
      " |      Location's latitude.\n",
      " |      \n",
      " |      :rtype: float or None\n",
      " |  \n",
      " |  longitude\n",
      " |      Location's longitude.\n",
      " |      \n",
      " |      :rtype: float or None\n",
      " |  \n",
      " |  point\n",
      " |      :class:`geopy.point.Point` instance representing the location's\n",
      " |      latitude, longitude, and altitude.\n",
      " |      \n",
      " |      :rtype: :class:`geopy.point.Point` or None\n",
      " |  \n",
      " |  raw\n",
      " |      Location's raw, unparsed geocoder response. For details on this,\n",
      " |      consult the service's documentation.\n",
      " |      \n",
      " |      :rtype: dict or None\n",
      "\n"
     ]
    }
   ],
   "source": [
    "from geopy.geocoders import Nominatim\n",
    "geolocator = Nominatim()\n",
    "location = geolocator.geocode(\"Chicago Illinois\")\n",
    "print(location.raw)\n",
    "help(location)"
   ]
  },
  {
   "cell_type": "code",
   "execution_count": 5,
   "metadata": {
    "collapsed": true
   },
   "outputs": [],
   "source": [
    "import pandas as pd\n",
    "import plotly"
   ]
  },
  {
   "cell_type": "markdown",
   "metadata": {},
   "source": [
    "csv file ma_plus_race.csv stores data (last updated to include a section on race/ethnicity for each profile)"
   ]
  },
  {
   "cell_type": "code",
   "execution_count": 6,
   "metadata": {
    "collapsed": false
   },
   "outputs": [],
   "source": [
    "ma = pd.DataFrame.from_csv(\"ma_plus_race.csv\")"
   ]
  },
  {
   "cell_type": "code",
   "execution_count": 7,
   "metadata": {
    "collapsed": false
   },
   "outputs": [],
   "source": [
    "one_city_list = list(set([i + \" Massachusetts\" for i in ma[\"town\"].values.tolist()\\\n",
    "                 if len(str(i).split(\", \")) == 1 and str(i) != \"nan\"]))"
   ]
  },
  {
   "cell_type": "code",
   "execution_count": 8,
   "metadata": {
    "collapsed": false
   },
   "outputs": [],
   "source": [
    "lats = []\n",
    "lons = []\n",
    "# print(len(one_city_list))\n",
    "for i in one_city_list:\n",
    "    location = geolocator.geocode(i, timeout=10)\n",
    "    lats.append(location.latitude)\n",
    "    lons.append(location.longitude)"
   ]
  },
  {
   "cell_type": "code",
   "execution_count": 9,
   "metadata": {
    "collapsed": true
   },
   "outputs": [],
   "source": [
    "two_city_list = list(set([i + \" Massachusetts\" for i in ma[\"town\"].values.tolist()\\\n",
    "                 if len(str(i).split(\", \")) == 2 and str(i) != \"nan\"]))"
   ]
  },
  {
   "cell_type": "code",
   "execution_count": 10,
   "metadata": {
    "collapsed": false
   },
   "outputs": [],
   "source": [
    "for i in two_city_list:\n",
    "    if \"Other\" in i:\n",
    "        two_city_list.remove(i)"
   ]
  },
  {
   "cell_type": "code",
   "execution_count": 11,
   "metadata": {
    "collapsed": false
   },
   "outputs": [],
   "source": [
    "two_city_list = [i.split(\", \")[1] for i in two_city_list]"
   ]
  },
  {
   "cell_type": "code",
   "execution_count": 12,
   "metadata": {
    "collapsed": false
   },
   "outputs": [
    {
     "data": {
      "text/plain": [
       "134"
      ]
     },
     "execution_count": 12,
     "metadata": {},
     "output_type": "execute_result"
    }
   ],
   "source": [
    "all_cities = one_city_list + two_city_list\n",
    "len(all_cities)"
   ]
  },
  {
   "cell_type": "markdown",
   "metadata": {},
   "source": [
    "**Edge cases:**"
   ]
  },
  {
   "cell_type": "code",
   "execution_count": null,
   "metadata": {
    "collapsed": false
   },
   "outputs": [],
   "source": [
    "for i,v in enumerate(all_cities):\n",
    "    if \"Leather\" in v:\n",
    "        all_cities[i] = \"Leather District, Boston\"\n",
    "    elif \"Bay Village\" in v:\n",
    "        all_cities[i] = \"Bay Village\"\n",
    "    elif \"Brickell\" in v:\n",
    "        all_cities.remove(v)\n",
    "    elif \"Boston Airport\" in v:\n",
    "        all_cities[i] = \"Boston Logan International Airport, Boston\""
   ]
  },
  {
   "cell_type": "markdown",
   "metadata": {},
   "source": [
    "Store conversion data in dictionary and pandas frame"
   ]
  },
  {
   "cell_type": "code",
   "execution_count": null,
   "metadata": {
    "collapsed": false
   },
   "outputs": [],
   "source": [
    "geo_dict = {}\n",
    "for i in all_cities:\n",
    "    location = geolocator.geocode(i, timeout=10)\n",
    "    try:\n",
    "        lat = location.latitude\n",
    "        lon = location.longitude\n",
    "    except AttributeError:\n",
    "        print(i)\n",
    "    geo_dict[i] = {\"lat\": lat, \"lon\": lon}"
   ]
  },
  {
   "cell_type": "code",
   "execution_count": null,
   "metadata": {
    "collapsed": true
   },
   "outputs": [],
   "source": [
    "geo_dict[\"Boston Logan Airport\"] = {\"lat\": 42.366828, \"lon\": -71.027330}\n",
    "geo_dict[\"Leather District\"] = {\"lat\": 42.350807, \"lon\": -71.057969}"
   ]
  },
  {
   "cell_type": "code",
   "execution_count": null,
   "metadata": {
    "collapsed": false
   },
   "outputs": [],
   "source": [
    "geo_frame = pd.DataFrame(geo_dict).T"
   ]
  },
  {
   "cell_type": "code",
   "execution_count": null,
   "metadata": {
    "collapsed": false
   },
   "outputs": [],
   "source": [
    "geo_frame.index"
   ]
  },
  {
   "cell_type": "markdown",
   "metadata": {},
   "source": [
    "use conversion dictionary to add a lat and long value to each profile in pandas dataframe"
   ]
  },
  {
   "cell_type": "code",
   "execution_count": null,
   "metadata": {
    "collapsed": false
   },
   "outputs": [],
   "source": [
    "clean_towns = []\n",
    "lats_list = []\n",
    "lons_list = []\n",
    "ma_city_values = [str(i) for i in ma[\"town\"].values.tolist()]\n",
    "for ind,i in enumerate(ma_city_values):\n",
    "    if str(i) == \"nan\" or \":\" in i:\n",
    "        clean_towns.append(\"nan\")\n",
    "        lats_list.append(\"nan\")\n",
    "        lons_list.append(\"nan\")\n",
    "    else:\n",
    "        if \",\" in i:\n",
    "            val = i.split(\", \")[1]\n",
    "        else:\n",
    "            val = i\n",
    "        try:\n",
    "            lats_list.append(geo_dict[val + \" Massachusetts\"][\"lat\"])\n",
    "            lons_list.append(geo_dict[val + \" Massachusetts\"][\"lon\"])\n",
    "            clean_towns.append(val + \" Massachusetts\")\n",
    "        except KeyError:\n",
    "            if \"Bay Village\" in val:\n",
    "                lats_list.append(42.349176)\n",
    "                lons_list.append(-71.069591)\n",
    "                clean_towns.append(\"Bay Village\")\n",
    "            elif \"Leather\" in val:\n",
    "                lats_list.append(42.350807)\n",
    "                lons_list.append(-71.057969)\n",
    "                clean_towns.append(\"Leather District\")\n",
    "            elif \"Airport\" in val:\n",
    "                lats_list.append(42.366828)\n",
    "                lons_list.append(-71.027330)\n",
    "                clean_towns.append(\"Boston Logan Airport\")\n",
    "            else:\n",
    "                clean_towns.append(\"nan\")\n",
    "                lats_list.append(\"nan\")\n",
    "                lons_list.append(\"nan\")"
   ]
  },
  {
   "cell_type": "code",
   "execution_count": null,
   "metadata": {
    "collapsed": false
   },
   "outputs": [],
   "source": [
    "ma[\"towns\"] = clean_towns\n",
    "ma[\"lat\"] = lats_list\n",
    "ma[\"lon\"] = lons_list\n",
    "len(ma[\"towns\"])"
   ]
  },
  {
   "cell_type": "code",
   "execution_count": null,
   "metadata": {
    "collapsed": false
   },
   "outputs": [],
   "source": [
    "from itertools import groupby\n",
    "lengtsh = [len(list(group)) for key, group in groupby(clean_towns)]"
   ]
  },
  {
   "cell_type": "markdown",
   "metadata": {},
   "source": [
    "**Check out the frequency breakdown for users around the state**"
   ]
  },
  {
   "cell_type": "code",
   "execution_count": null,
   "metadata": {
    "collapsed": false,
    "scrolled": false
   },
   "outputs": [],
   "source": [
    "import collections\n",
    "counter=collections.Counter(clean_towns)\n",
    "# print(counter)\n",
    "# print(counter.values())\n",
    "# print(counter.keys())\n",
    "frequencies = (counter.most_common(134))"
   ]
  },
  {
   "cell_type": "code",
   "execution_count": null,
   "metadata": {
    "collapsed": false
   },
   "outputs": [],
   "source": [
    "geo_dict[u'Westborough Massachusetts']['lat']"
   ]
  },
  {
   "cell_type": "code",
   "execution_count": null,
   "metadata": {
    "collapsed": false
   },
   "outputs": [],
   "source": [
    "freq = []\n",
    "for i,v in enumerate(frequencies):\n",
    "    try:\n",
    "        freq.append([geo_dict[v[0]][\"lat\"], geo_dict[v[0]][\"lon\"], v[1]])\n",
    "    except KeyError:\n",
    "        print v"
   ]
  },
  {
   "cell_type": "code",
   "execution_count": null,
   "metadata": {
    "collapsed": false
   },
   "outputs": [],
   "source": [
    "prep_towns = ma[\"towns\"][ma[\"hiv_status\"] == \"HIV Negative, on PrEP\"].values.tolist()"
   ]
  },
  {
   "cell_type": "code",
   "execution_count": null,
   "metadata": {
    "collapsed": false
   },
   "outputs": [],
   "source": [
    "counter=collections.Counter(prep_towns)\n",
    "frequencies = (counter.most_common(58))\n",
    "freq = []\n",
    "for i,v in enumerate(frequencies):\n",
    "    try:\n",
    "        freq.append([geo_dict[v[0]][\"lat\"], geo_dict[v[0]][\"lon\"], v[1], frequencies[i][0]])\n",
    "    except KeyError:\n",
    "        print v"
   ]
  },
  {
   "cell_type": "code",
   "execution_count": null,
   "metadata": {
    "collapsed": false
   },
   "outputs": [],
   "source": [
    "freq"
   ]
  },
  {
   "cell_type": "markdown",
   "metadata": {},
   "source": [
    "Use plotly's geoscatter plot to try to visualize that frequency"
   ]
  },
  {
   "cell_type": "code",
   "execution_count": null,
   "metadata": {
    "collapsed": true
   },
   "outputs": [],
   "source": [
    "import plotly.tools as tls\n",
    "tls.set_credentials_file(username='mrngos', api_key='r2pmvn0qhu')"
   ]
  },
  {
   "cell_type": "markdown",
   "metadata": {},
   "source": [
    "## Biggest issue:\n",
    "The map data in plotly doesn't scale to city/state scope, stays only at state/country level in the States. must find alternative"
   ]
  },
  {
   "cell_type": "code",
   "execution_count": null,
   "metadata": {
    "collapsed": false,
    "scrolled": true
   },
   "outputs": [],
   "source": [
    "import plotly.plotly as py\n",
    "import pandas as pd\n",
    "\n",
    "df = pd.read_csv('https://raw.githubusercontent.com/plotly/datasets/master/2011_february_us_airport_traffic.csv')\n",
    "df.head()\n",
    "\n",
    "# ma['text'] = df['town'] + '' + df['city'] + ', ' + df['state'] + '' + 'Arrivals: ' + df['cnt'].astype(str)\n",
    "\n",
    "scl = [ [0,\"rgb(5, 10, 172)\"],[0.35,\"rgb(40, 60, 190)\"],[0.5,\"rgb(70, 100, 245)\"],\\\n",
    "    [0.6,\"rgb(90, 120, 245)\"],[0.7,\"rgb(106, 137, 247)\"],[1,\"rgb(220, 220, 220)\"] ]\n",
    "\n",
    "data = [ dict(\n",
    "        type = 'scattergeo',\n",
    "        locationmode = 'MA-cities',\n",
    "        lon = ma['lon'],\n",
    "        lat = ma['lat'],\n",
    "        mode = 'markers',\n",
    "        marker = dict( \n",
    "            size = 8, \n",
    "            opacity = 0.8,\n",
    "            reversescale = True,\n",
    "            autocolorscale = False,\n",
    "            symbol = 'circle',\n",
    "            line = dict(\n",
    "                width=1,\n",
    "                color='rgba(102, 102, 102)'\n",
    "            ),\n",
    "            colorscale = scl,\n",
    "            cmin = 0,\n",
    "            color = df['cnt'],\n",
    "            cmax = df['cnt'].max(),\n",
    "            colorbar=dict(\n",
    "                title=\"Incoming flightsFebruary 2011\"\n",
    "            )\n",
    "        ))]\n",
    "\n",
    "layout = dict(\n",
    "        title = 'Most trafficked US airports<br>(Hover for airport names)',\n",
    "        colorbar = True,   \n",
    "        geo = dict(\n",
    "            scope='usa',\n",
    "            projection=dict( type='albers usa' ),\n",
    "            showland = True,\n",
    "            landcolor = \"rgb(250, 250, 250)\",\n",
    "            subunitcolor = \"rgb(217, 217, 217)\",\n",
    "            countrycolor = \"rgb(217, 217, 217)\",\n",
    "            countrywidth = 0.5,\n",
    "            subunitwidth = 0.5        \n",
    "        ),\n",
    "    )\n",
    "\n",
    "fig = dict( data=data, layout=layout )\n",
    "py.iplot( fig, validate=False, filename='d3-airports' )"
   ]
  },
  {
   "cell_type": "code",
   "execution_count": null,
   "metadata": {
    "collapsed": true
   },
   "outputs": [],
   "source": []
  }
 ],
 "metadata": {
  "kernelspec": {
   "display_name": "Python 2",
   "language": "python",
   "name": "python2"
  },
  "language_info": {
   "codemirror_mode": {
    "name": "ipython",
    "version": 2
   },
   "file_extension": ".py",
   "mimetype": "text/x-python",
   "name": "python",
   "nbconvert_exporter": "python",
   "pygments_lexer": "ipython2",
   "version": "2.7.10"
  }
 },
 "nbformat": 4,
 "nbformat_minor": 0
}
